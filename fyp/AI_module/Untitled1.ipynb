{
 "cells": [
  {
   "cell_type": "code",
   "execution_count": 4,
   "id": "5f0258aa-33c8-4ffb-8301-acf5ed08b0be",
   "metadata": {},
   "outputs": [],
   "source": [
    "# Importing necessary libraries\n",
    "import pandas as pd\n",
    "from sklearn.model_selection import train_test_split\n",
    "from sklearn.ensemble import RandomForestRegressor\n",
    "import joblib\n",
    "import json\n"
   ]
  },
  {
   "cell_type": "code",
   "execution_count": 5,
   "id": "8b54e51f-6e5b-4b4f-a93d-aa9cc052a269",
   "metadata": {},
   "outputs": [],
   "source": [
    "def load_and_preprocess_data(file_path, drop_columns=[]):\n",
    "    data = pd.read_csv(file_path, nrows=90000)\n",
    "    data = data[data['purpose'] == \"For Sale\"]\n",
    "    data.drop(columns=drop_columns, inplace=True)\n",
    "    return data"
   ]
  },
  {
   "cell_type": "code",
   "execution_count": 6,
   "id": "71eb4e38-ff4e-4302-986a-e3799caac010",
   "metadata": {},
   "outputs": [],
   "source": [
    "def encode_data(data, mapping_file):\n",
    "    with open(mapping_file, 'r') as file:\n",
    "        loaded_json_mapping = json.load(file)\n",
    "    inverted_mapping = {v: int(k) for k, v in loaded_json_mapping.items()}\n",
    "    return data.map(inverted_mapping)"
   ]
  },
  {
   "cell_type": "code",
   "execution_count": 7,
   "id": "617ebb6b-a4fc-421e-a6d2-4b5962e5ffd6",
   "metadata": {},
   "outputs": [
    {
     "data": {
      "text/html": [
       "<div>\n",
       "<style scoped>\n",
       "    .dataframe tbody tr th:only-of-type {\n",
       "        vertical-align: middle;\n",
       "    }\n",
       "\n",
       "    .dataframe tbody tr th {\n",
       "        vertical-align: top;\n",
       "    }\n",
       "\n",
       "    .dataframe thead th {\n",
       "        text-align: right;\n",
       "    }\n",
       "</style>\n",
       "<table border=\"1\" class=\"dataframe\">\n",
       "  <thead>\n",
       "    <tr style=\"text-align: right;\">\n",
       "      <th></th>\n",
       "      <th>property_type</th>\n",
       "      <th>price</th>\n",
       "      <th>price_bin</th>\n",
       "      <th>location</th>\n",
       "      <th>city</th>\n",
       "      <th>province_name</th>\n",
       "      <th>latitude</th>\n",
       "      <th>longitude</th>\n",
       "      <th>baths</th>\n",
       "      <th>area_marla</th>\n",
       "      <th>area_sqft</th>\n",
       "      <th>bedrooms</th>\n",
       "      <th>year</th>\n",
       "      <th>month</th>\n",
       "      <th>day</th>\n",
       "    </tr>\n",
       "  </thead>\n",
       "  <tbody>\n",
       "    <tr>\n",
       "      <th>0</th>\n",
       "      <td>House</td>\n",
       "      <td>220000000</td>\n",
       "      <td>Very High</td>\n",
       "      <td>Model Town</td>\n",
       "      <td>Lahore</td>\n",
       "      <td>Punjab</td>\n",
       "      <td>31.483869</td>\n",
       "      <td>74.325686</td>\n",
       "      <td>0</td>\n",
       "      <td>120.0</td>\n",
       "      <td>32670.12</td>\n",
       "      <td>0</td>\n",
       "      <td>2019</td>\n",
       "      <td>7</td>\n",
       "      <td>17</td>\n",
       "    </tr>\n",
       "    <tr>\n",
       "      <th>1</th>\n",
       "      <td>House</td>\n",
       "      <td>40000000</td>\n",
       "      <td>Very High</td>\n",
       "      <td>Multan Road</td>\n",
       "      <td>Lahore</td>\n",
       "      <td>Punjab</td>\n",
       "      <td>31.431593</td>\n",
       "      <td>74.179980</td>\n",
       "      <td>5</td>\n",
       "      <td>20.0</td>\n",
       "      <td>5445.02</td>\n",
       "      <td>5</td>\n",
       "      <td>2018</td>\n",
       "      <td>10</td>\n",
       "      <td>6</td>\n",
       "    </tr>\n",
       "    <tr>\n",
       "      <th>2</th>\n",
       "      <td>House</td>\n",
       "      <td>9500000</td>\n",
       "      <td>Low</td>\n",
       "      <td>Eden</td>\n",
       "      <td>Lahore</td>\n",
       "      <td>Punjab</td>\n",
       "      <td>31.499348</td>\n",
       "      <td>74.416959</td>\n",
       "      <td>0</td>\n",
       "      <td>9.0</td>\n",
       "      <td>2450.26</td>\n",
       "      <td>3</td>\n",
       "      <td>2019</td>\n",
       "      <td>7</td>\n",
       "      <td>3</td>\n",
       "    </tr>\n",
       "    <tr>\n",
       "      <th>3</th>\n",
       "      <td>House</td>\n",
       "      <td>125000000</td>\n",
       "      <td>Very High</td>\n",
       "      <td>Gulberg</td>\n",
       "      <td>Lahore</td>\n",
       "      <td>Punjab</td>\n",
       "      <td>31.522069</td>\n",
       "      <td>74.355512</td>\n",
       "      <td>7</td>\n",
       "      <td>20.0</td>\n",
       "      <td>5445.02</td>\n",
       "      <td>8</td>\n",
       "      <td>2019</td>\n",
       "      <td>4</td>\n",
       "      <td>4</td>\n",
       "    </tr>\n",
       "    <tr>\n",
       "      <th>4</th>\n",
       "      <td>House</td>\n",
       "      <td>21000000</td>\n",
       "      <td>High</td>\n",
       "      <td>Allama Iqbal Town</td>\n",
       "      <td>Lahore</td>\n",
       "      <td>Punjab</td>\n",
       "      <td>31.506483</td>\n",
       "      <td>74.286017</td>\n",
       "      <td>5</td>\n",
       "      <td>11.0</td>\n",
       "      <td>2994.76</td>\n",
       "      <td>6</td>\n",
       "      <td>2019</td>\n",
       "      <td>4</td>\n",
       "      <td>4</td>\n",
       "    </tr>\n",
       "  </tbody>\n",
       "</table>\n",
       "</div>"
      ],
      "text/plain": [
       "  property_type      price  price_bin           location    city  \\\n",
       "0         House  220000000  Very High         Model Town  Lahore   \n",
       "1         House   40000000  Very High        Multan Road  Lahore   \n",
       "2         House    9500000        Low               Eden  Lahore   \n",
       "3         House  125000000  Very High            Gulberg  Lahore   \n",
       "4         House   21000000       High  Allama Iqbal Town  Lahore   \n",
       "\n",
       "  province_name   latitude  longitude  baths  area_marla  area_sqft  bedrooms  \\\n",
       "0        Punjab  31.483869  74.325686      0       120.0   32670.12         0   \n",
       "1        Punjab  31.431593  74.179980      5        20.0    5445.02         5   \n",
       "2        Punjab  31.499348  74.416959      0         9.0    2450.26         3   \n",
       "3        Punjab  31.522069  74.355512      7        20.0    5445.02         8   \n",
       "4        Punjab  31.506483  74.286017      5        11.0    2994.76         6   \n",
       "\n",
       "   year  month  day  \n",
       "0  2019      7   17  \n",
       "1  2018     10    6  \n",
       "2  2019      7    3  \n",
       "3  2019      4    4  \n",
       "4  2019      4    4  "
      ]
     },
     "execution_count": 7,
     "metadata": {},
     "output_type": "execute_result"
    }
   ],
   "source": [
    "data= load_and_preprocess_data('Property_with_Feature_Engineering.csv', drop_columns=['property_id', 'location_id', 'page_url', 'locality', 'area', 'date_added', 'agency', 'agent', 'purpose'])\n",
    "data.head()"
   ]
  },
  {
   "cell_type": "code",
   "execution_count": 8,
   "id": "68e1ed29-a078-4247-aea4-3379e3f9f358",
   "metadata": {},
   "outputs": [],
   "source": [
    "# Encode categorical data\n",
    "# Define inflation rates for each year (from 2019 to 2024)\n",
    "inflation_rates = [0.1058, 0.0974, 0.0950, 0.1987, 0.2918]  # Replace with actual inflation rates for each year\n",
    "# Adjust prices in the dataset for inflation\n",
    "for i, rate in enumerate(inflation_rates):\n",
    "    data['price'] = data['price'] * (1 + rate)\n",
    "for column in ['city', 'location', 'province_name', 'property_type', 'price_bin']:\n",
    "    data[column] = encode_data(data[column], f'{column}_mapping.json')\n"
   ]
  },
  {
   "cell_type": "code",
   "execution_count": 9,
   "id": "c88c740f-58cc-4aa0-9aec-95a4a38e5925",
   "metadata": {},
   "outputs": [
    {
     "data": {
      "text/html": [
       "<div>\n",
       "<style scoped>\n",
       "    .dataframe tbody tr th:only-of-type {\n",
       "        vertical-align: middle;\n",
       "    }\n",
       "\n",
       "    .dataframe tbody tr th {\n",
       "        vertical-align: top;\n",
       "    }\n",
       "\n",
       "    .dataframe thead th {\n",
       "        text-align: right;\n",
       "    }\n",
       "</style>\n",
       "<table border=\"1\" class=\"dataframe\">\n",
       "  <thead>\n",
       "    <tr style=\"text-align: right;\">\n",
       "      <th></th>\n",
       "      <th>price</th>\n",
       "      <th>area_marla</th>\n",
       "      <th>baths</th>\n",
       "      <th>bedrooms</th>\n",
       "      <th>area_sqft</th>\n",
       "      <th>location</th>\n",
       "      <th>city</th>\n",
       "    </tr>\n",
       "  </thead>\n",
       "  <tbody>\n",
       "    <tr>\n",
       "      <th>0</th>\n",
       "      <td>4.526725e+08</td>\n",
       "      <td>120.0</td>\n",
       "      <td>0</td>\n",
       "      <td>0</td>\n",
       "      <td>32670.12</td>\n",
       "      <td>980</td>\n",
       "      <td>3</td>\n",
       "    </tr>\n",
       "    <tr>\n",
       "      <th>1</th>\n",
       "      <td>8.230409e+07</td>\n",
       "      <td>20.0</td>\n",
       "      <td>5</td>\n",
       "      <td>5</td>\n",
       "      <td>5445.02</td>\n",
       "      <td>1002</td>\n",
       "      <td>3</td>\n",
       "    </tr>\n",
       "    <tr>\n",
       "      <th>2</th>\n",
       "      <td>1.954722e+07</td>\n",
       "      <td>9.0</td>\n",
       "      <td>0</td>\n",
       "      <td>3</td>\n",
       "      <td>2450.26</td>\n",
       "      <td>430</td>\n",
       "      <td>3</td>\n",
       "    </tr>\n",
       "    <tr>\n",
       "      <th>3</th>\n",
       "      <td>2.572003e+08</td>\n",
       "      <td>20.0</td>\n",
       "      <td>7</td>\n",
       "      <td>8</td>\n",
       "      <td>5445.02</td>\n",
       "      <td>574</td>\n",
       "      <td>3</td>\n",
       "    </tr>\n",
       "    <tr>\n",
       "      <th>4</th>\n",
       "      <td>4.320965e+07</td>\n",
       "      <td>11.0</td>\n",
       "      <td>5</td>\n",
       "      <td>6</td>\n",
       "      <td>2994.76</td>\n",
       "      <td>120</td>\n",
       "      <td>3</td>\n",
       "    </tr>\n",
       "  </tbody>\n",
       "</table>\n",
       "</div>"
      ],
      "text/plain": [
       "          price  area_marla  baths  bedrooms  area_sqft  location  city\n",
       "0  4.526725e+08       120.0      0         0   32670.12       980     3\n",
       "1  8.230409e+07        20.0      5         5    5445.02      1002     3\n",
       "2  1.954722e+07         9.0      0         3    2450.26       430     3\n",
       "3  2.572003e+08        20.0      7         8    5445.02       574     3\n",
       "4  4.320965e+07        11.0      5         6    2994.76       120     3"
      ]
     },
     "execution_count": 9,
     "metadata": {},
     "output_type": "execute_result"
    }
   ],
   "source": [
    "# Selecting relevant features\n",
    "features = ['price', 'area_marla', 'baths', 'bedrooms', 'area_sqft', 'location', 'city']  # Include 'city' in features\n",
    "data_copy = data[features]\n",
    "data_copy.head()\n"
   ]
  },
  {
   "cell_type": "code",
   "execution_count": 10,
   "id": "709e887f-4fe7-427c-ac1a-9d12fe26bf6b",
   "metadata": {},
   "outputs": [
    {
     "name": "stderr",
     "output_type": "stream",
     "text": [
      "C:\\Users\\DellE7450\\AppData\\Local\\Temp\\ipykernel_7604\\556084866.py:1: SettingWithCopyWarning: \n",
      "A value is trying to be set on a copy of a slice from a DataFrame.\n",
      "Try using .loc[row_indexer,col_indexer] = value instead\n",
      "\n",
      "See the caveats in the documentation: https://pandas.pydata.org/pandas-docs/stable/user_guide/indexing.html#returning-a-view-versus-a-copy\n",
      "  data_copy.loc[:, 'price'] = data['price'].astype(int)\n",
      "C:\\Users\\DellE7450\\AppData\\Local\\Temp\\ipykernel_7604\\556084866.py:1: DeprecationWarning: In a future version, `df.iloc[:, i] = newvals` will attempt to set the values inplace instead of always setting a new array. To retain the old behavior, use either `df[df.columns[i]] = newvals` or, if columns are non-unique, `df.isetitem(i, newvals)`\n",
      "  data_copy.loc[:, 'price'] = data['price'].astype(int)\n"
     ]
    },
    {
     "data": {
      "text/html": [
       "<div>\n",
       "<style scoped>\n",
       "    .dataframe tbody tr th:only-of-type {\n",
       "        vertical-align: middle;\n",
       "    }\n",
       "\n",
       "    .dataframe tbody tr th {\n",
       "        vertical-align: top;\n",
       "    }\n",
       "\n",
       "    .dataframe thead th {\n",
       "        text-align: right;\n",
       "    }\n",
       "</style>\n",
       "<table border=\"1\" class=\"dataframe\">\n",
       "  <thead>\n",
       "    <tr style=\"text-align: right;\">\n",
       "      <th></th>\n",
       "      <th>price</th>\n",
       "      <th>area_marla</th>\n",
       "      <th>baths</th>\n",
       "      <th>bedrooms</th>\n",
       "      <th>area_sqft</th>\n",
       "      <th>location</th>\n",
       "      <th>city</th>\n",
       "    </tr>\n",
       "  </thead>\n",
       "  <tbody>\n",
       "    <tr>\n",
       "      <th>0</th>\n",
       "      <td>452672515</td>\n",
       "      <td>120.0</td>\n",
       "      <td>0</td>\n",
       "      <td>0</td>\n",
       "      <td>32670.12</td>\n",
       "      <td>980</td>\n",
       "      <td>3</td>\n",
       "    </tr>\n",
       "    <tr>\n",
       "      <th>1</th>\n",
       "      <td>82304093</td>\n",
       "      <td>20.0</td>\n",
       "      <td>5</td>\n",
       "      <td>5</td>\n",
       "      <td>5445.02</td>\n",
       "      <td>1002</td>\n",
       "      <td>3</td>\n",
       "    </tr>\n",
       "    <tr>\n",
       "      <th>2</th>\n",
       "      <td>19547222</td>\n",
       "      <td>9.0</td>\n",
       "      <td>0</td>\n",
       "      <td>3</td>\n",
       "      <td>2450.26</td>\n",
       "      <td>430</td>\n",
       "      <td>3</td>\n",
       "    </tr>\n",
       "    <tr>\n",
       "      <th>3</th>\n",
       "      <td>257200293</td>\n",
       "      <td>20.0</td>\n",
       "      <td>7</td>\n",
       "      <td>8</td>\n",
       "      <td>5445.02</td>\n",
       "      <td>574</td>\n",
       "      <td>3</td>\n",
       "    </tr>\n",
       "    <tr>\n",
       "      <th>4</th>\n",
       "      <td>43209649</td>\n",
       "      <td>11.0</td>\n",
       "      <td>5</td>\n",
       "      <td>6</td>\n",
       "      <td>2994.76</td>\n",
       "      <td>120</td>\n",
       "      <td>3</td>\n",
       "    </tr>\n",
       "  </tbody>\n",
       "</table>\n",
       "</div>"
      ],
      "text/plain": [
       "       price  area_marla  baths  bedrooms  area_sqft  location  city\n",
       "0  452672515       120.0      0         0   32670.12       980     3\n",
       "1   82304093        20.0      5         5    5445.02      1002     3\n",
       "2   19547222         9.0      0         3    2450.26       430     3\n",
       "3  257200293        20.0      7         8    5445.02       574     3\n",
       "4   43209649        11.0      5         6    2994.76       120     3"
      ]
     },
     "execution_count": 10,
     "metadata": {},
     "output_type": "execute_result"
    }
   ],
   "source": [
    "data_copy.loc[:, 'price'] = data['price'].astype(int)\n",
    "data_copy.head()"
   ]
  },
  {
   "cell_type": "code",
   "execution_count": 11,
   "id": "3f96b6c1-9cc2-464b-bb35-b5e4520879f1",
   "metadata": {},
   "outputs": [],
   "source": [
    "# Split the data into features and target variable\n",
    "X = data_copy[['baths','bedrooms','area_sqft','city','location']]  # Features\n",
    "y = data_copy[\"price\"]  # Target variable\n"
   ]
  },
  {
   "cell_type": "code",
   "execution_count": 12,
   "id": "30aa3978-d886-4d9b-9c10-c4fa40e70947",
   "metadata": {},
   "outputs": [],
   "source": [
    "# Split the data into training and testing sets\n",
    "X_train, X_test, y_train, y_test = train_test_split(X, y, test_size=0.2, random_state=42)\n"
   ]
  },
  {
   "cell_type": "code",
   "execution_count": 13,
   "id": "11fe0862-a242-4248-b81a-fdfb376eda82",
   "metadata": {},
   "outputs": [
    {
     "name": "stderr",
     "output_type": "stream",
     "text": [
      "[Parallel(n_jobs=1)]: Done  49 tasks      | elapsed:   11.3s\n"
     ]
    },
    {
     "data": {
      "text/html": [
       "<style>#sk-container-id-1 {color: black;}#sk-container-id-1 pre{padding: 0;}#sk-container-id-1 div.sk-toggleable {background-color: white;}#sk-container-id-1 label.sk-toggleable__label {cursor: pointer;display: block;width: 100%;margin-bottom: 0;padding: 0.3em;box-sizing: border-box;text-align: center;}#sk-container-id-1 label.sk-toggleable__label-arrow:before {content: \"▸\";float: left;margin-right: 0.25em;color: #696969;}#sk-container-id-1 label.sk-toggleable__label-arrow:hover:before {color: black;}#sk-container-id-1 div.sk-estimator:hover label.sk-toggleable__label-arrow:before {color: black;}#sk-container-id-1 div.sk-toggleable__content {max-height: 0;max-width: 0;overflow: hidden;text-align: left;background-color: #f0f8ff;}#sk-container-id-1 div.sk-toggleable__content pre {margin: 0.2em;color: black;border-radius: 0.25em;background-color: #f0f8ff;}#sk-container-id-1 input.sk-toggleable__control:checked~div.sk-toggleable__content {max-height: 200px;max-width: 100%;overflow: auto;}#sk-container-id-1 input.sk-toggleable__control:checked~label.sk-toggleable__label-arrow:before {content: \"▾\";}#sk-container-id-1 div.sk-estimator input.sk-toggleable__control:checked~label.sk-toggleable__label {background-color: #d4ebff;}#sk-container-id-1 div.sk-label input.sk-toggleable__control:checked~label.sk-toggleable__label {background-color: #d4ebff;}#sk-container-id-1 input.sk-hidden--visually {border: 0;clip: rect(1px 1px 1px 1px);clip: rect(1px, 1px, 1px, 1px);height: 1px;margin: -1px;overflow: hidden;padding: 0;position: absolute;width: 1px;}#sk-container-id-1 div.sk-estimator {font-family: monospace;background-color: #f0f8ff;border: 1px dotted black;border-radius: 0.25em;box-sizing: border-box;margin-bottom: 0.5em;}#sk-container-id-1 div.sk-estimator:hover {background-color: #d4ebff;}#sk-container-id-1 div.sk-parallel-item::after {content: \"\";width: 100%;border-bottom: 1px solid gray;flex-grow: 1;}#sk-container-id-1 div.sk-label:hover label.sk-toggleable__label {background-color: #d4ebff;}#sk-container-id-1 div.sk-serial::before {content: \"\";position: absolute;border-left: 1px solid gray;box-sizing: border-box;top: 0;bottom: 0;left: 50%;z-index: 0;}#sk-container-id-1 div.sk-serial {display: flex;flex-direction: column;align-items: center;background-color: white;padding-right: 0.2em;padding-left: 0.2em;position: relative;}#sk-container-id-1 div.sk-item {position: relative;z-index: 1;}#sk-container-id-1 div.sk-parallel {display: flex;align-items: stretch;justify-content: center;background-color: white;position: relative;}#sk-container-id-1 div.sk-item::before, #sk-container-id-1 div.sk-parallel-item::before {content: \"\";position: absolute;border-left: 1px solid gray;box-sizing: border-box;top: 0;bottom: 0;left: 50%;z-index: -1;}#sk-container-id-1 div.sk-parallel-item {display: flex;flex-direction: column;z-index: 1;position: relative;background-color: white;}#sk-container-id-1 div.sk-parallel-item:first-child::after {align-self: flex-end;width: 50%;}#sk-container-id-1 div.sk-parallel-item:last-child::after {align-self: flex-start;width: 50%;}#sk-container-id-1 div.sk-parallel-item:only-child::after {width: 0;}#sk-container-id-1 div.sk-dashed-wrapped {border: 1px dashed gray;margin: 0 0.4em 0.5em 0.4em;box-sizing: border-box;padding-bottom: 0.4em;background-color: white;}#sk-container-id-1 div.sk-label label {font-family: monospace;font-weight: bold;display: inline-block;line-height: 1.2em;}#sk-container-id-1 div.sk-label-container {text-align: center;}#sk-container-id-1 div.sk-container {/* jupyter's `normalize.less` sets `[hidden] { display: none; }` but bootstrap.min.css set `[hidden] { display: none !important; }` so we also need the `!important` here to be able to override the default hidden behavior on the sphinx rendered scikit-learn.org. See: https://github.com/scikit-learn/scikit-learn/issues/21755 */display: inline-block !important;position: relative;}#sk-container-id-1 div.sk-text-repr-fallback {display: none;}</style><div id=\"sk-container-id-1\" class=\"sk-top-container\"><div class=\"sk-text-repr-fallback\"><pre>RandomForestRegressor(random_state=42, verbose=1)</pre><b>In a Jupyter environment, please rerun this cell to show the HTML representation or trust the notebook. <br />On GitHub, the HTML representation is unable to render, please try loading this page with nbviewer.org.</b></div><div class=\"sk-container\" hidden><div class=\"sk-item\"><div class=\"sk-estimator sk-toggleable\"><input class=\"sk-toggleable__control sk-hidden--visually\" id=\"sk-estimator-id-1\" type=\"checkbox\" checked><label for=\"sk-estimator-id-1\" class=\"sk-toggleable__label sk-toggleable__label-arrow\">RandomForestRegressor</label><div class=\"sk-toggleable__content\"><pre>RandomForestRegressor(random_state=42, verbose=1)</pre></div></div></div></div></div>"
      ],
      "text/plain": [
       "RandomForestRegressor(random_state=42, verbose=1)"
      ]
     },
     "execution_count": 13,
     "metadata": {},
     "output_type": "execute_result"
    }
   ],
   "source": [
    "# Train the model (using Random Forest Regressor)\n",
    "model = RandomForestRegressor(n_estimators=100, random_state=42, verbose=1)\n",
    "model.fit(X_train, y_train)\n",
    "#train_score = model.score(X_train, y_train)\n",
    "#test_score = model.score(X_test, y_test)\n",
    "#model.evaluate(X_test,y_test)\n",
    "\n",
    "# print(\"Training R^2 score:\", train_score)\n",
    "# print(\"Testing R^2 score:\", test_score)\n",
    "#Make predictions\n",
    "# y_pred = model.predict(X_test)\n",
    "\n",
    "# # Calculate Mean Absolute Error\n",
    "# mae = mean_absolute_error(y_test, y_pred)\n",
    "# print(\"Mean Absolute Error:\", mae)\n",
    "\n"
   ]
  },
  {
   "cell_type": "code",
   "execution_count": 14,
   "id": "6e1dc418-3350-4939-a96b-0474c2ae6b1f",
   "metadata": {},
   "outputs": [
    {
     "data": {
      "text/plain": [
       "['housing_model.pkl']"
      ]
     },
     "execution_count": 14,
     "metadata": {},
     "output_type": "execute_result"
    }
   ],
   "source": [
    "# Save the trained model\n",
    "joblib.dump(model, \"housing_model.pkl\")  # Save the model as \"housing_model.pkl\"\n"
   ]
  },
  {
   "cell_type": "code",
   "execution_count": 15,
   "id": "72be2164-11d3-4438-9a4b-43ad7952e417",
   "metadata": {},
   "outputs": [
    {
     "name": "stderr",
     "output_type": "stream",
     "text": [
      "[Parallel(n_jobs=1)]: Done  49 tasks      | elapsed:    0.3s\n"
     ]
    }
   ],
   "source": [
    "res=model.predict(X_test)"
   ]
  },
  {
   "cell_type": "code",
   "execution_count": 16,
   "id": "187eb689-542e-4a3e-8e07-d47b455b1f6f",
   "metadata": {},
   "outputs": [
    {
     "name": "stdout",
     "output_type": "stream",
     "text": [
      "[9.13301035e+06 8.20434737e+06 1.25432179e+07 ... 2.21455230e+08\n",
      " 5.24817193e+07 1.46301017e+07]\n"
     ]
    }
   ],
   "source": [
    "print(res)"
   ]
  },
  {
   "cell_type": "code",
   "execution_count": 17,
   "id": "1dfffdd1-0fbb-4506-8fd3-f3a1d7d66f0d",
   "metadata": {},
   "outputs": [],
   "source": [
    "from sklearn.metrics import mean_absolute_error"
   ]
  },
  {
   "cell_type": "code",
   "execution_count": 18,
   "id": "810dc4a7-433b-4d87-afc2-d8f25b0d41cd",
   "metadata": {},
   "outputs": [
    {
     "name": "stderr",
     "output_type": "stream",
     "text": [
      "[Parallel(n_jobs=1)]: Done  49 tasks      | elapsed:    0.9s\n"
     ]
    },
    {
     "name": "stdout",
     "output_type": "stream",
     "text": [
      "Mean Absolute Error for Training Set: 7783102.762339554\n"
     ]
    }
   ],
   "source": [
    "print('Mean Absolute Error for Training Set:', mean_absolute_error(y_train, model.predict(X_train)))"
   ]
  },
  {
   "cell_type": "code",
   "execution_count": 19,
   "id": "a0cae548-be13-4f67-a7c1-c579f5c6e788",
   "metadata": {},
   "outputs": [],
   "source": [
    "city_mapping_file='city_mapping.json'\n",
    "location_mapping_file='location_mapping.json'\n",
    "\n",
    "def encode_location(location_name, mapping_file):\n",
    "    with open(mapping_file, 'r') as file:\n",
    "        mapping = json.load(file)\n",
    "    for key, value in mapping.items():\n",
    "        \n",
    "        if value == location_name:\n",
    "            return int(key)\n",
    "    return None\n",
    "\n",
    "def encode_city(city_name, mapping_file):\n",
    "    with open(mapping_file, 'r') as file:\n",
    "        mapping = json.load(file)\n",
    "    for key, value in mapping.items():\n",
    "        \n",
    "        if value == city_name:\n",
    "            return int(key)\n",
    "    return None\n",
    "    \n",
    "# Creating a simple chatbot interface\n",
    "def predict_house_prices(baths, bedrooms, area_sqft, city_name, location_name, budget, \n",
    "                         city_mapping_file, location_mapping_file):\n",
    "    # Encode city and location names\n",
    "    \n",
    "    encoded_city=encode_city(city_name,city_mapping_file)\n",
    "    encoded_location=encode_location(location_name,location_mapping_file)\n",
    "    print(encoded_city)\n",
    "    print(encoded_location)\n",
    "    \n",
    "    # Check if city and location were successfully encoded\n",
    "    if encoded_city == -1 or encoded_location == -1:\n",
    "        return \"Error: City or Location not found in mapping\"\n",
    "    \n",
    "    # Load the trained model\n",
    "    model = joblib.load(\"housing_model.pkl\")\n",
    "    \n",
    "    # Prepare input data\n",
    "    input_data = pd.DataFrame({\n",
    "        'baths': [baths],\n",
    "        'bedrooms': [bedrooms],\n",
    "        'area_sqft': [area_sqft],\n",
    "        'city': [encoded_city],\n",
    "        'location': [encoded_location]\n",
    "    })\n",
    "    \n",
    "    # Predict the house price\n",
    "    predicted_price = model.predict(input_data)[0]\n",
    "   \n",
    "    return predicted_price\n"
   ]
  },
  {
   "cell_type": "code",
   "execution_count": 20,
   "id": "ebf910de-f644-445f-8ace-be9d2580ed5d",
   "metadata": {},
   "outputs": [],
   "source": [
    "def recommend_properties(budget, baths, bedrooms,city):\n",
    "    # Filter properties based on conditions\n",
    "    suitable_properties = data_copy[(data_copy[\"price\"] <= budget) & (data_copy[\"baths\"] >= baths) & (data_copy[\"bedrooms\"] >= bedrooms)]\n",
    "\n",
    "    # Get unique locations and cities for recommended properties\n",
    "    unique_locations = suitable_properties['location'].unique()\n",
    "    unique_cities = suitable_properties['city'].unique()\n",
    "\n",
    "    return unique_locations, unique_cities\n",
    "\n"
   ]
  },
  {
   "cell_type": "code",
   "execution_count": 21,
   "id": "a4892d2a-12f7-4cca-bc60-b77978de335b",
   "metadata": {},
   "outputs": [
    {
     "name": "stdout",
     "output_type": "stream",
     "text": [
      "3\n",
      "762\n",
      "Predicted price for the property: 33669003.88916883\n"
     ]
    },
    {
     "name": "stderr",
     "output_type": "stream",
     "text": [
      "[Parallel(n_jobs=1)]: Done  49 tasks      | elapsed:    0.0s\n"
     ]
    }
   ],
   "source": [
    "# Example usage of the chatbot\n",
    "input_str = input(\"Please input baths, bedrooms, area_sqft, city, location and budget (in rupees), separated by commas (e.g., '5,5,2000,Lahore,location, 20000000'): \")\n",
    "baths, bedrooms, area_sqft,city, location, budget = input_str.split(',')\n",
    "baths = int(baths)\n",
    "bedrooms = int(bedrooms)\n",
    "area_sqft = float(area_sqft)\n",
    "budget = int(budget)\n",
    "\n",
    "predicted_price = predict_house_prices(baths, bedrooms, area_sqft, city,location, budget, city_mapping_file,location_mapping_file)\n",
    "print(f\"Predicted price for the property: {predicted_price}\")\n",
    "\n",
    "# recommended_locations, recommended_cities = recommend_properties(budget, baths, bedrooms,city)\n",
    "# print(\"\\nRecommended Locations:\")\n",
    "# print(recommended_locations)\n",
    "# print(\"\\nRecommended Cities:\")\n",
    "# print(recommended_cities)"
   ]
  },
  {
   "cell_type": "code",
   "execution_count": 22,
   "id": "e995264e-c687-4d30-9b6e-605bd61c7876",
   "metadata": {},
   "outputs": [
    {
     "name": "stdout",
     "output_type": "stream",
     "text": [
      "            price  area_marla  baths  bedrooms  area_sqft  location  city\n",
      "4361     15843538        10.0      7         5    2722.51       876     3\n",
      "6591      7685144        10.0      6         5    2722.51       876     3\n",
      "7772     10288011        10.0      6         5    2722.51      1466     3\n",
      "8776     15637777        10.0      6         5    2722.51       355     3\n",
      "10014           8        20.0      6         5    5445.02      1501     3\n",
      "10077    17489619         8.0     10        11    2178.01       194     3\n",
      "65115    19547222        10.0      7         7    2722.51      1337     3\n",
      "72863 -2147483648       260.0      9         8   70785.26       574     3\n",
      "81536    18518421        10.0      5         5    2722.51       871     3\n",
      "85092    19547222         8.0      7         5    2178.01       204     3\n",
      "86164    19547222         8.0      7         5    2178.01       204     3\n",
      "86165    19547222         8.0      7         5    2178.01       204     3\n",
      "Preferred Locations:\n",
      "['Lake City', 'Township', 'DHA 11 Rahbar', 'Wapda Town', 'Bagarian', 'Shahdara', 'Gulberg', 'Lahore Medical Housing Society', 'Bahria Orchard']\n"
     ]
    }
   ],
   "source": [
    "mapping_file = 'location_mapping.json'  # Path to your mapping file\n",
    "def decode_locations(encoded_locations, mapping_file):\n",
    "    with open(mapping_file, 'r') as file:\n",
    "        mapping = json.load(file)\n",
    "    decoded_locations = [mapping[str(encoded)] for encoded in encoded_locations]\n",
    "    return decoded_locations\n",
    "\n",
    "def suggest_preferred_locations(budget, baths, bedrooms, city_name, location_name,\n",
    "                                city_mapping_file, location_mapping_file, data_copy):\n",
    "    # Encode city and location names\n",
    "    encoded_city = encode_city(city_name, city_mapping_file)\n",
    "    # print(encoded_city)\n",
    "    encoded_location = encode_location(location_name, location_mapping_file)\n",
    "    \n",
    "    # Check if city and location were successfully encoded\n",
    "    if encoded_city is None or encoded_location is None:\n",
    "        return \"Error: City or Location not found in mapping\"\n",
    "    \n",
    "    # Filter properties based on conditions\n",
    "    suitable_properties = data_copy[(data_copy[\"price\"] < budget) & \n",
    "                                    (data_copy[\"baths\"] >= baths) &\n",
    "                                    (data_copy[\"bedrooms\"] >= bedrooms) & \n",
    "                                    (data_copy[\"city\"] == encoded_city) &\n",
    "                                    (data_copy[\"area_sqft\"] >= area_sqft)]\n",
    "\n",
    "\n",
    "    # Get unique locations for recommended properties\n",
    "    unique_locations = suitable_properties['location'].unique()\n",
    "    unique_locations = unique_locations[:10]\n",
    "    decoded_locations = decode_locations(unique_locations, location_mapping_file)\n",
    "    return decoded_locations\n",
    "\n",
    "# Example usage of the function\n",
    "budget = 20000000\n",
    "baths = 5\n",
    "bedrooms = 5\n",
    "city_name = \"Lahore\"  # Example city name\n",
    "location_name = \"Gulberg\"  # Example location name\n",
    "city_mapping_file = 'city_mapping.json'  # Path to your city mapping file\n",
    "location_mapping_file = 'location_mapping.json'  # Path to your location mapping file\n",
    "\n",
    "preferred_locations = suggest_preferred_locations(budget, baths, bedrooms, city_name, location_name,\n",
    "                                                  city_mapping_file, location_mapping_file, data_copy)\n",
    "\n",
    "print(\"Preferred Locations:\")\n",
    "print(preferred_locations)"
   ]
  }
 ],
 "metadata": {
  "kernelspec": {
   "display_name": "Python 3 (ipykernel)",
   "language": "python",
   "name": "python3"
  },
  "language_info": {
   "codemirror_mode": {
    "name": "ipython",
    "version": 3
   },
   "file_extension": ".py",
   "mimetype": "text/x-python",
   "name": "python",
   "nbconvert_exporter": "python",
   "pygments_lexer": "ipython3",
   "version": "3.11.2"
  }
 },
 "nbformat": 4,
 "nbformat_minor": 5
}
